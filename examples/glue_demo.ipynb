{
 "cells": [
  {
   "cell_type": "markdown",
   "metadata": {},
   "source": [
    "# Notebook with minimal example to run hpo glue Optimizers on Benchmarks"
   ]
  },
  {
   "cell_type": "markdown",
   "metadata": {},
   "source": [
    "<a href=\"https://githubtocolab.com/Sohambasu07/hpo_glue/blob/main/examples/rs_toyfns.ipynb\"><img src=\"https://colab.research.google.com/assets/colab-badge.svg\" alt=\"Open In Colab\"></a>"
   ]
  },
  {
   "cell_type": "markdown",
   "metadata": {},
   "source": [
    "## Install hpo glue"
   ]
  },
  {
   "cell_type": "code",
   "execution_count": null,
   "metadata": {},
   "outputs": [],
   "source": [
    "!git clone https://github.com/Sohambasu07/hpo_glue.git\n",
    "!cd hpo_glue\n",
    "!python -m pip install -e ."
   ]
  },
  {
   "cell_type": "markdown",
   "metadata": {},
   "source": [
    "## Print the list of available example benchmarks and optimizers"
   ]
  },
  {
   "cell_type": "code",
   "execution_count": 21,
   "metadata": {},
   "outputs": [
    {
     "name": "stdout",
     "output_type": "stream",
     "text": [
      "{'RandomSearch': <class 'lib.optimizers.random_search.RandomSearch'>}\n",
      "{'ackley': BenchmarkDescription(name='ackley', load=functools.partial(<function _ackley_surrogate at 0x76eba01c6950>), metrics={'value': Measure(minimize=True, kind=<Kind.METRIC: 'metric'>, bounds=(0.0, inf))}, test_metrics=None, costs=None, fidelities=None, has_conditionals=False, is_tabular=False, env=Env(name='ackley'), mem_req_MB=100), 'branin': BenchmarkDescription(name='branin', load=functools.partial(<function _branin_surrogate at 0x76eb17514040>), metrics={'value': Measure(minimize=True, kind=<Kind.METRIC: 'metric'>, bounds=(0.0, inf))}, test_metrics=None, costs=None, fidelities=None, has_conditionals=False, is_tabular=False, env=Env(name='branin'), mem_req_MB=100), 'ackley2': BenchmarkDescription(name='ackley2', load=functools.partial(<bound method FunctionalBenchmark.load of <hpo_glue.benchmark.FunctionalBenchmark object at 0x76eb175183d0>>), metrics={'value': Measure(minimize=True, kind=<Kind.METRIC: 'metric'>, bounds=(0.0, inf))}, test_metrics=None, costs=None, fidelities=None, has_conditionals=False, is_tabular=False, env=<bound method Env.empty of <class 'hpo_glue.env.Env'>>, mem_req_MB=100)}\n"
     ]
    }
   ],
   "source": [
    "from lib import BENCHMARKS, OPTIMIZERS\n",
    "\n",
    "print(OPTIMIZERS)\n",
    "print(BENCHMARKS)"
   ]
  },
  {
   "cell_type": "markdown",
   "metadata": {},
   "source": [
    "## Select RandomSearch Optimizer and ackley Functional Benchmark"
   ]
  },
  {
   "cell_type": "code",
   "execution_count": 22,
   "metadata": {},
   "outputs": [],
   "source": [
    "opt = OPTIMIZERS[\"RandomSearch\"]\n",
    "bench = BENCHMARKS[\"ackley\"]"
   ]
  },
  {
   "cell_type": "markdown",
   "metadata": {},
   "source": [
    "## Define a Problem with a budget and run hpo_glue with a seed"
   ]
  },
  {
   "cell_type": "code",
   "execution_count": 23,
   "metadata": {},
   "outputs": [
    {
     "data": {
      "text/html": [
       "<div>\n",
       "<style scoped>\n",
       "    .dataframe tbody tr th:only-of-type {\n",
       "        vertical-align: middle;\n",
       "    }\n",
       "\n",
       "    .dataframe tbody tr th {\n",
       "        vertical-align: top;\n",
       "    }\n",
       "\n",
       "    .dataframe thead th {\n",
       "        text-align: right;\n",
       "    }\n",
       "</style>\n",
       "<table border=\"1\" class=\"dataframe\">\n",
       "  <thead>\n",
       "    <tr style=\"text-align: right;\">\n",
       "      <th></th>\n",
       "      <th>budget_cost</th>\n",
       "      <th>budget_used_total</th>\n",
       "      <th>config</th>\n",
       "      <th>continuations_cost</th>\n",
       "      <th>fidelity</th>\n",
       "      <th>query</th>\n",
       "      <th>trajectory</th>\n",
       "      <th>values</th>\n",
       "    </tr>\n",
       "  </thead>\n",
       "  <tbody>\n",
       "    <tr>\n",
       "      <th>0</th>\n",
       "      <td>1</td>\n",
       "      <td>1.0</td>\n",
       "      <td>Config(config_id='1', values={'x0': np.float64...</td>\n",
       "      <td>NaN</td>\n",
       "      <td>None</td>\n",
       "      <td>Query(config=Config(config_id='1', values={'x0...</td>\n",
       "      <td>None</td>\n",
       "      <td>{'value': 17.175806745425536}</td>\n",
       "    </tr>\n",
       "    <tr>\n",
       "      <th>1</th>\n",
       "      <td>1</td>\n",
       "      <td>2.0</td>\n",
       "      <td>Config(config_id='2', values={'x0': np.float64...</td>\n",
       "      <td>NaN</td>\n",
       "      <td>None</td>\n",
       "      <td>Query(config=Config(config_id='2', values={'x0...</td>\n",
       "      <td>None</td>\n",
       "      <td>{'value': 20.2289008503735}</td>\n",
       "    </tr>\n",
       "    <tr>\n",
       "      <th>2</th>\n",
       "      <td>1</td>\n",
       "      <td>3.0</td>\n",
       "      <td>Config(config_id='3', values={'x0': np.float64...</td>\n",
       "      <td>NaN</td>\n",
       "      <td>None</td>\n",
       "      <td>Query(config=Config(config_id='3', values={'x0...</td>\n",
       "      <td>None</td>\n",
       "      <td>{'value': 21.61077154648434}</td>\n",
       "    </tr>\n",
       "    <tr>\n",
       "      <th>3</th>\n",
       "      <td>1</td>\n",
       "      <td>4.0</td>\n",
       "      <td>Config(config_id='4', values={'x0': np.float64...</td>\n",
       "      <td>NaN</td>\n",
       "      <td>None</td>\n",
       "      <td>Query(config=Config(config_id='4', values={'x0...</td>\n",
       "      <td>None</td>\n",
       "      <td>{'value': 20.41337202790521}</td>\n",
       "    </tr>\n",
       "    <tr>\n",
       "      <th>4</th>\n",
       "      <td>1</td>\n",
       "      <td>5.0</td>\n",
       "      <td>Config(config_id='5', values={'x0': np.float64...</td>\n",
       "      <td>NaN</td>\n",
       "      <td>None</td>\n",
       "      <td>Query(config=Config(config_id='5', values={'x0...</td>\n",
       "      <td>None</td>\n",
       "      <td>{'value': 18.738997749537866}</td>\n",
       "    </tr>\n",
       "  </tbody>\n",
       "</table>\n",
       "</div>"
      ],
      "text/plain": [
       "   budget_cost  budget_used_total  \\\n",
       "0            1                1.0   \n",
       "1            1                2.0   \n",
       "2            1                3.0   \n",
       "3            1                4.0   \n",
       "4            1                5.0   \n",
       "\n",
       "                                              config  continuations_cost  \\\n",
       "0  Config(config_id='1', values={'x0': np.float64...                 NaN   \n",
       "1  Config(config_id='2', values={'x0': np.float64...                 NaN   \n",
       "2  Config(config_id='3', values={'x0': np.float64...                 NaN   \n",
       "3  Config(config_id='4', values={'x0': np.float64...                 NaN   \n",
       "4  Config(config_id='5', values={'x0': np.float64...                 NaN   \n",
       "\n",
       "  fidelity                                              query trajectory  \\\n",
       "0     None  Query(config=Config(config_id='1', values={'x0...       None   \n",
       "1     None  Query(config=Config(config_id='2', values={'x0...       None   \n",
       "2     None  Query(config=Config(config_id='3', values={'x0...       None   \n",
       "3     None  Query(config=Config(config_id='4', values={'x0...       None   \n",
       "4     None  Query(config=Config(config_id='5', values={'x0...       None   \n",
       "\n",
       "                          values  \n",
       "0  {'value': 17.175806745425536}  \n",
       "1    {'value': 20.2289008503735}  \n",
       "2   {'value': 21.61077154648434}  \n",
       "3   {'value': 20.41337202790521}  \n",
       "4  {'value': 18.738997749537866}  "
      ]
     },
     "execution_count": 23,
     "metadata": {},
     "output_type": "execute_result"
    }
   ],
   "source": [
    "from hpo_glue._run import _run\n",
    "\n",
    "problem = bench.problem(\n",
    "    budget=50\n",
    ")\n",
    "\n",
    "result_df = _run(\n",
    "    run_name=\"hpo_glue_demo\",\n",
    "    optimizer=opt,\n",
    "    optimizer_hyperparameters={},\n",
    "    problem=problem,\n",
    "    seed=0\n",
    ")\n",
    "\n",
    "result_df.head()"
   ]
  }
 ],
 "metadata": {
  "kernelspec": {
   "display_name": "hpos_env",
   "language": "python",
   "name": "python3"
  },
  "language_info": {
   "codemirror_mode": {
    "name": "ipython",
    "version": 3
   },
   "file_extension": ".py",
   "mimetype": "text/x-python",
   "name": "python",
   "nbconvert_exporter": "python",
   "pygments_lexer": "ipython3",
   "version": "3.10.12"
  }
 },
 "nbformat": 4,
 "nbformat_minor": 2
}
